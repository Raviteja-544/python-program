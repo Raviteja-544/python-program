{
  "nbformat": 4,
  "nbformat_minor": 0,
  "metadata": {
    "colab": {
      "name": "Untitled2.ipynb",
      "provenance": [],
      "authorship_tag": "ABX9TyOCf6sqDqzTOQtfxC3hBvjS",
      "include_colab_link": true
    },
    "kernelspec": {
      "name": "python3",
      "display_name": "Python 3"
    },
    "language_info": {
      "name": "python"
    }
  },
  "cells": [
    {
      "cell_type": "markdown",
      "metadata": {
        "id": "view-in-github",
        "colab_type": "text"
      },
      "source": [
        "<a href=\"https://colab.research.google.com/github/Raviteja-544/python-program/blob/main/Untitled2.ipynb\" target=\"_parent\"><img src=\"https://colab.research.google.com/assets/colab-badge.svg\" alt=\"Open In Colab\"/></a>"
      ]
    },
    {
      "cell_type": "markdown",
      "metadata": {
        "id": "X0J0uHeJa2Fg"
      },
      "source": [
        "Hello world program:"
      ]
    },
    {
      "cell_type": "code",
      "metadata": {
        "colab": {
          "base_uri": "https://localhost:8080/"
        },
        "id": "PPSlRo_ra9lL",
        "outputId": "c65007ff-412c-4ff2-9534-798c372f24ca"
      },
      "source": [
        "#to print Hello world\n",
        "print (\"Hello world!\")"
      ],
      "execution_count": 1,
      "outputs": [
        {
          "output_type": "stream",
          "text": [
            "Hello world!\n"
          ],
          "name": "stdout"
        }
      ]
    },
    {
      "cell_type": "markdown",
      "metadata": {
        "id": "-uwwS_9KbHuv"
      },
      "source": [
        "Program to Check positive and negative number"
      ]
    },
    {
      "cell_type": "code",
      "metadata": {
        "colab": {
          "base_uri": "https://localhost:8080/"
        },
        "id": "AoJE4TzCbO2l",
        "outputId": "41fa5c5d-ce91-435e-fda8-844b76a35d29"
      },
      "source": [
        "n = int(input(\"enter a number:\"))\n",
        "if(n>0):\n",
        "   print(\"positive number\")\n",
        "else:\n",
        "   print(\"negative number\")"
      ],
      "execution_count": 3,
      "outputs": [
        {
          "output_type": "stream",
          "text": [
            "enter a number:44\n",
            "positive number\n"
          ],
          "name": "stdout"
        }
      ]
    },
    {
      "cell_type": "markdown",
      "metadata": {
        "id": "XmCjaur8bj-P"
      },
      "source": [
        "Program for even or odd"
      ]
    },
    {
      "cell_type": "code",
      "metadata": {
        "colab": {
          "base_uri": "https://localhost:8080/"
        },
        "id": "r8iB7s8DbmuR",
        "outputId": "601a2223-ea88-4827-d8f5-1d59ee6a348a"
      },
      "source": [
        "n = int(input(\"enter a number:\"))\n",
        "if(n%2 ==0):\n",
        "    print(\"even\")\n",
        "else:\n",
        "    print(\"odd\")"
      ],
      "execution_count": 4,
      "outputs": [
        {
          "output_type": "stream",
          "text": [
            "enter a number:44\n",
            "even\n"
          ],
          "name": "stdout"
        }
      ]
    }
  ]
}